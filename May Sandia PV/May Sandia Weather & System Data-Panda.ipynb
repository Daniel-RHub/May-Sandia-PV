{
  "cells": [
    {
      "metadata": {},
      "cell_type": "markdown",
      "source": "# Sandia System Data\n## Import Libraries"
    },
    {
      "metadata": {
        "trusted": true
      },
      "cell_type": "code",
      "source": "# Upgrade command\n!pip install --upgrade pip\n\n# Install Requests\n!pip install requests",
      "execution_count": null,
      "outputs": []
    },
    {
      "metadata": {
        "trusted": true
      },
      "cell_type": "code",
      "source": "# Imports\nimport pandas as pd\nimport numpy as np\nimport matplotlib.pyplot as plt\nimport matplotlib as mpl\nimport seaborn as sns \nimport json\nimport requests\nimport datetime\nimport time\n\nfrom sklearn.linear_model import LinearRegression\nfrom sklearn.model_selection import train_test_split\nfrom sklearn.pipeline import Pipeline\nfrom sklearn.preprocessing import StandardScaler,PolynomialFeatures\nfrom sklearn.linear_model import Ridge\nfrom sklearn.preprocessing import PolynomialFeatures\nfrom collections import namedtuple\nfrom datetime import datetime",
      "execution_count": null,
      "outputs": []
    },
    {
      "metadata": {},
      "cell_type": "markdown",
      "source": "### Latitude, Longitude & tz"
    },
    {
      "metadata": {
        "trusted": true
      },
      "cell_type": "code",
      "source": "# Specify Location (Albuquerque, NM)\nlatitude, longitude, tz = 35, -106.6, 'US/Mountain'",
      "execution_count": null,
      "outputs": []
    },
    {
      "metadata": {},
      "cell_type": "markdown",
      "source": "## Accessing API with Pandas\n### Weather and System Data"
    },
    {
      "metadata": {
        "trusted": true
      },
      "cell_type": "code",
      "source": "# Get Weather Data from URL - May 18 to May 25\nURL = \"https://pv-dashboard.sandia.gov/api/v1.0/location/Albuquerque/data/weather/start/2020-05-22/end/2020-05-25/key/ZhWJxS48oMpRm1\"\n\nresponse = requests.get(url=URL)\nweather_df = pd.DataFrame(response.json())\nweather_df.head()\n\n# # Get Weather Data from URL - May 18 to May 25\nURL = \"https://pv-dashboard.sandia.gov/api/v1.0/location/Albuquerque/data/weather/start/2020-05-18/end/2020-05-25/key/ZhWJxS48oMpRm1\"\n\nresponse = requests.get(url=URL)\nweather2_df = pd.DataFrame(response.json())",
      "execution_count": null,
      "outputs": []
    },
    {
      "metadata": {
        "trusted": true
      },
      "cell_type": "code",
      "source": "weather_df.rename(columns={'TmStamp':'TimeStamp', 'GlobalIrrad':'GHI', 'DirectIrrad':'DNI', 'DiffuseIrrad':'DHI'}, inplace=True)\nweather2_df.rename(columns={'TmStamp':'TimeStamp', 'GlobalIrrad':'GHI', 'DirectIrrad':'DNI', 'DiffuseIrrad':'DHI'}, inplace=True)",
      "execution_count": null,
      "outputs": []
    },
    {
      "metadata": {
        "trusted": true
      },
      "cell_type": "code",
      "source": "weather_df.head()",
      "execution_count": null,
      "outputs": []
    },
    {
      "metadata": {
        "trusted": true
      },
      "cell_type": "code",
      "source": "# Weather Keys\nprint(\"Keys of weather_df: \\n{}\".format(weather_df.keys()))",
      "execution_count": null,
      "outputs": []
    },
    {
      "metadata": {
        "trusted": true
      },
      "cell_type": "code",
      "source": "# Analyzing Data\n# Global Horizonal & Direct Normal(W/m*2)\n# Air Temperature (deg C)\nweather_df.describe()",
      "execution_count": null,
      "outputs": []
    },
    {
      "metadata": {
        "trusted": true
      },
      "cell_type": "code",
      "source": "# Analyzing Data - May 18 to 25\n# Global Horizonal & Direct Normal(W/m*2)\n# Air Temperature (deg C)\nweather2_df.describe()",
      "execution_count": null,
      "outputs": []
    },
    {
      "metadata": {},
      "cell_type": "markdown",
      "source": "### System"
    },
    {
      "metadata": {
        "trusted": true
      },
      "cell_type": "code",
      "source": "# Get System Data from URL\nURL = \"https://pv-dashboard.sandia.gov/api/v1.0/location/Albuquerque/data/system/start/2020-05-22/end/2020-05-25/key/ZhWJxS48oMpRm1\"\n\nresponse = requests.get(url=URL)\nsystem_df = pd.DataFrame(response.json())\nsystem_df.head()\n\n# Get System Data from URL\nURL = \"https://pv-dashboard.sandia.gov/api/v1.0/location/Albuquerque/data/system/start/2020-05-18/end/2020-05-25/key/ZhWJxS48oMpRm1\"\n\nresponse = requests.get(url=URL)\nsystem2_df = pd.DataFrame(response.json())",
      "execution_count": null,
      "outputs": []
    },
    {
      "metadata": {
        "trusted": true
      },
      "cell_type": "code",
      "source": "system_df.rename(columns={'TmStamp':'TimeStamp'}, inplace=True)\nsystem2_df.rename(columns={'TmStamp':'TimeStamp'}, inplace=True)",
      "execution_count": null,
      "outputs": []
    },
    {
      "metadata": {
        "trusted": true
      },
      "cell_type": "code",
      "source": "system_df.head()",
      "execution_count": null,
      "outputs": []
    },
    {
      "metadata": {
        "trusted": true
      },
      "cell_type": "code",
      "source": "# System Keys\nprint(\"Keys of system_df: \\n{}\".format(system_df.keys()))",
      "execution_count": null,
      "outputs": []
    },
    {
      "metadata": {
        "trusted": true
      },
      "cell_type": "code",
      "source": "# Analyzing Data\nsystem_df.describe()",
      "execution_count": null,
      "outputs": []
    },
    {
      "metadata": {
        "trusted": true
      },
      "cell_type": "code",
      "source": "# Analyzing Data\nsystem2_df.describe()",
      "execution_count": null,
      "outputs": []
    },
    {
      "metadata": {},
      "cell_type": "markdown",
      "source": "# Weather and System Plot"
    },
    {
      "metadata": {},
      "cell_type": "markdown",
      "source": "## Weather May 22 to May 25"
    },
    {
      "metadata": {
        "trusted": true
      },
      "cell_type": "code",
      "source": "# Plot cloud cover percentages\nirrad_var = ['GHI']\nweather_df[irrad_var].plot(figsize=(20,10));\nplt.ylabel('Irradiance (W/m2)',size=20);\nplt.xlabel('RTCST ({})'.format(tz),size=20);\nplt.title('RTCST data for lat={}, lon={}'.format(latitude, longitude),size=30);\nplt.legend(prop={'size': 20});",
      "execution_count": null,
      "outputs": []
    },
    {
      "metadata": {},
      "cell_type": "markdown",
      "source": "## Weather May 18 to May 25"
    },
    {
      "metadata": {
        "trusted": true
      },
      "cell_type": "code",
      "source": "# Plot cloud cover percentages\nirrad_var = ['GHI']\nweather2_df[irrad_var].plot(figsize=(20,10));\nplt.ylabel('Irradiance (W/m2)',size=20);\nplt.xlabel('RTCST ({})'.format(tz),size=20);\nplt.title('RTCST data for lat={}, lon={}'.format(latitude, longitude),size=30);\nplt.legend(prop={'size': 20});",
      "execution_count": null,
      "outputs": []
    },
    {
      "metadata": {},
      "cell_type": "markdown",
      "source": "## System PIV May 22 to May 25"
    },
    {
      "metadata": {
        "trusted": true
      },
      "cell_type": "code",
      "source": "# Plot cloud cover percentages\nsys1i_var = ['Sys1Wac']\nsystem_df[sys1i_var].plot(figsize=(20,10));\nplt.ylabel('AC Power (Watt)',size=20);\nplt.xlabel('RTCST ({})'.format(tz),size=20);\nplt.title('RTCST data for lat={}, lon={}'.format(latitude, longitude),size=30);\nplt.legend(prop={'size': 20});",
      "execution_count": null,
      "outputs": []
    },
    {
      "metadata": {
        "trusted": true
      },
      "cell_type": "code",
      "source": "# Plot cloud cover percentages\nsys1i_var = ['Sys1Idc']\nsystem_df[sys1i_var].plot(figsize=(20,10));\nplt.ylabel('DC Curernt (Amp)',size=20);\nplt.xlabel('RTCST ({})'.format(tz),size=20);\nplt.title('RTCST data for lat={}, lon={}'.format(latitude, longitude),size=30);\nplt.legend(prop={'size': 20});",
      "execution_count": null,
      "outputs": []
    },
    {
      "metadata": {
        "trusted": true
      },
      "cell_type": "code",
      "source": "# Plot cloud cover percentages\nsys1v_var = ['Sys1Vdc']\nsystem_df[sys1v_var].plot(figsize=(20,10));\nplt.ylabel('DC Voltage (Volt)',size=20);\nplt.xlabel('RTCST ({})'.format(tz),size=20);\nplt.title('RTCST data for lat={}, lon={}'.format(latitude, longitude),size=30);\nplt.legend(prop={'size': 20});",
      "execution_count": null,
      "outputs": []
    },
    {
      "metadata": {
        "trusted": true
      },
      "cell_type": "code",
      "source": "## System PIV May 18 to May 25",
      "execution_count": null,
      "outputs": []
    },
    {
      "metadata": {
        "trusted": true
      },
      "cell_type": "code",
      "source": "# Plot cloud cover percentages\nsys1i_var = ['Sys1Wac']\nsystem2_df[sys1i_var].plot(figsize=(20,10));\nplt.ylabel('AC Power (Watt)',size=20);\nplt.xlabel('RTCST ({})'.format(tz),size=20);\nplt.title('RTCST data for lat={}, lon={}'.format(latitude, longitude),size=30);\nplt.legend(prop={'size': 20});",
      "execution_count": null,
      "outputs": []
    },
    {
      "metadata": {
        "trusted": true
      },
      "cell_type": "code",
      "source": "# Plot cloud cover percentages\nsys1i_var = ['Sys1Idc']\nsystem2_df[sys1i_var].plot(figsize=(20,10));\nplt.ylabel('DC Curernt (Amp)',size=20);\nplt.xlabel('RTCST ({})'.format(tz),size=20);\nplt.title('RTCST data for lat={}, lon={}'.format(latitude, longitude),size=30);\nplt.legend(prop={'size': 20});",
      "execution_count": null,
      "outputs": []
    },
    {
      "metadata": {
        "trusted": true
      },
      "cell_type": "code",
      "source": "# Plot cloud cover percentages\nsys1v_var = ['Sys1Vdc']\nsystem2_df[sys1v_var].plot(figsize=(20,10));\nplt.ylabel('DC Voltage (Volt)',size=20);\nplt.xlabel('RTCST ({})'.format(tz),size=20);\nplt.title('RTCST data for lat={}, lon={}'.format(latitude, longitude),size=30);\nplt.legend(prop={'size': 20});",
      "execution_count": null,
      "outputs": []
    },
    {
      "metadata": {
        "trusted": true
      },
      "cell_type": "code",
      "source": "",
      "execution_count": null,
      "outputs": []
    },
    {
      "metadata": {
        "trusted": true
      },
      "cell_type": "code",
      "source": "",
      "execution_count": null,
      "outputs": []
    },
    {
      "metadata": {
        "trusted": true
      },
      "cell_type": "code",
      "source": "plt.figure(figsize=(30,15))\nplt.plot(x,y, label=\"Sys1 DC\")\nplt.plot(x,y2, label='Sys2 DC')\nplt.ylabel('DC Voltaje (V)',size=20);\nplt.xlabel('RTCST ({})'.format(tz),size=20);\nplt.title('RTCST Data lat={}, lon={}'.format(latitude, longitude),size=20);\nplt.legend(prop={'size': 20});\nplt.show()",
      "execution_count": null,
      "outputs": []
    },
    {
      "metadata": {
        "trusted": true
      },
      "cell_type": "code",
      "source": "# Plot cloud cover percentages\nirrad_var = ['GHI']\nweather2_df[irrad_var].plot(figsize=(20,10));\nplt.ylabel('Irradiance (W/m2)',size=20);\nplt.xlabel('RTCST ({})'.format(tz),size=20);\nplt.title('RTCST data for lat={}, lon={}'.format(latitude, longitude),size=30);\nplt.legend(prop={'size': 20});",
      "execution_count": null,
      "outputs": []
    },
    {
      "metadata": {
        "trusted": true
      },
      "cell_type": "code",
      "source": "",
      "execution_count": null,
      "outputs": []
    },
    {
      "metadata": {
        "trusted": true
      },
      "cell_type": "code",
      "source": "# Get data from URL\nURL = \"https://pv-dashboard.sandia.gov/api/v1.0/location/Albuquerque/data/system/start/2020-05-18/end/2020-05-25/key/ZhWJxS48oMpRm1\"\n\nresponse = requests.get(url=URL)\ndata = response.json()\nx = []\ny = []\ny2 = []\n\n# print(data)\nfor record in data:\n    x.append(datetime.fromtimestamp(record['TmStamp']/1000))\n    y.append(record['Sys1Vdc'])\n    y2.append(record['Sys2Vdc'])\n\nplt.figure(figsize=(30,15))\nplt.plot(x,y, label=\"Sys1 DC\")\nplt.plot(x,y2, label='Sys2 DC')\nplt.ylabel('DC Voltaje (V)',size=20);\nplt.xlabel('RTCST ({})'.format(tz),size=20);\nplt.title('RTCST Data lat={}, lon={}'.format(latitude, longitude),size=20);\nplt.legend(prop={'size': 20});\nplt.show()",
      "execution_count": null,
      "outputs": []
    },
    {
      "metadata": {
        "trusted": true
      },
      "cell_type": "code",
      "source": "",
      "execution_count": null,
      "outputs": []
    }
  ],
  "metadata": {
    "kernelspec": {
      "name": "python36",
      "display_name": "Python 3.6",
      "language": "python"
    },
    "language_info": {
      "mimetype": "text/x-python",
      "nbconvert_exporter": "python",
      "name": "python",
      "pygments_lexer": "ipython3",
      "version": "3.6.6",
      "file_extension": ".py",
      "codemirror_mode": {
        "version": 3,
        "name": "ipython"
      }
    }
  },
  "nbformat": 4,
  "nbformat_minor": 2
}