{
  "cells": [
    {
      "metadata": {},
      "cell_type": "markdown",
      "source": "# Sandia System Data\n## Import Libraries"
    },
    {
      "metadata": {
        "trusted": true
      },
      "cell_type": "code",
      "source": "# Upgrade command\n!pip install --upgrade pip\n\n# Install Requests\n!pip install requests",
      "execution_count": 1,
      "outputs": [
        {
          "output_type": "stream",
          "text": "Requirement already up-to-date: pip in /home/nbuser/anaconda3_501/lib/python3.6/site-packages (20.1.1)\nRequirement already satisfied: requests in /home/nbuser/anaconda3_501/lib/python3.6/site-packages (2.22.0)\nRequirement already satisfied: certifi>=2017.4.17 in /home/nbuser/anaconda3_501/lib/python3.6/site-packages (from requests) (2018.10.15)\nRequirement already satisfied: idna<2.9,>=2.5 in /home/nbuser/anaconda3_501/lib/python3.6/site-packages (from requests) (2.7)\nRequirement already satisfied: urllib3!=1.25.0,!=1.25.1,<1.26,>=1.21.1 in /home/nbuser/anaconda3_501/lib/python3.6/site-packages (from requests) (1.23)\nRequirement already satisfied: chardet<3.1.0,>=3.0.2 in /home/nbuser/anaconda3_501/lib/python3.6/site-packages (from requests) (3.0.4)\n",
          "name": "stdout"
        }
      ]
    },
    {
      "metadata": {
        "trusted": true
      },
      "cell_type": "code",
      "source": "# Imports\nimport pandas as pd\nimport numpy as np\nimport matplotlib.pyplot as plt\nimport matplotlib as mpl\nimport seaborn as sns \nimport json\nimport requests\nimport datetime\n\nfrom sklearn.linear_model import LinearRegression\nfrom sklearn.model_selection import train_test_split\nfrom sklearn.pipeline import Pipeline\nfrom sklearn.preprocessing import StandardScaler,PolynomialFeatures\nfrom sklearn.linear_model import Ridge\nfrom sklearn.preprocessing import PolynomialFeatures\nfrom collections import namedtuple\nfrom datetime import datetime",
      "execution_count": 2,
      "outputs": []
    },
    {
      "metadata": {},
      "cell_type": "markdown",
      "source": "### Latitude, Longitude & tz"
    },
    {
      "metadata": {
        "trusted": true
      },
      "cell_type": "code",
      "source": "# Specify Location (Albuquerque, NM)\nlatitude, longitude, tz = 35, -106.6, 'US/Mountain'",
      "execution_count": 3,
      "outputs": []
    },
    {
      "metadata": {},
      "cell_type": "markdown",
      "source": "### Read Note"
    },
    {
      "metadata": {
        "trusted": true
      },
      "cell_type": "code",
      "source": "# Get data from URL\nURL = \"https://pv-dashboard.sandia.gov/api/v1.0/location/Albuquerque/data/weather/start/2020-05-22/end/2020-05-25/key/ZhWJxS48oMpRm1\"\n\nresponse = requests.get(url=URL)\ndf = pd.DataFrame(response.json())\ndf.head()\n\n\n\n",
      "execution_count": 5,
      "outputs": [
        {
          "output_type": "execute_result",
          "execution_count": 5,
          "data": {
            "text/html": "<div>\n<style scoped>\n    .dataframe tbody tr th:only-of-type {\n        vertical-align: middle;\n    }\n\n    .dataframe tbody tr th {\n        vertical-align: top;\n    }\n\n    .dataframe thead th {\n        text-align: right;\n    }\n</style>\n<table border=\"1\" class=\"dataframe\">\n  <thead>\n    <tr style=\"text-align: right;\">\n      <th></th>\n      <th>AmbientTemp</th>\n      <th>DiffuseIrrad</th>\n      <th>DirectIrrad</th>\n      <th>GlobalIrrad</th>\n      <th>RainDailyAccumilation</th>\n      <th>RelativeHumidity</th>\n      <th>TmStamp</th>\n      <th>WindDirection</th>\n      <th>WindSpeed</th>\n    </tr>\n  </thead>\n  <tbody>\n    <tr>\n      <th>0</th>\n      <td>15.92</td>\n      <td>-8.070624</td>\n      <td>-0.021616</td>\n      <td>-6.104020</td>\n      <td>0.0</td>\n      <td>15.14</td>\n      <td>1590105660000</td>\n      <td>91.099998</td>\n      <td>1.373</td>\n    </tr>\n    <tr>\n      <th>1</th>\n      <td>15.83</td>\n      <td>-7.960976</td>\n      <td>0.102011</td>\n      <td>-6.144083</td>\n      <td>0.0</td>\n      <td>15.01</td>\n      <td>1590105720000</td>\n      <td>72.820000</td>\n      <td>1.325</td>\n    </tr>\n    <tr>\n      <th>2</th>\n      <td>15.83</td>\n      <td>-8.346499</td>\n      <td>-0.032980</td>\n      <td>-6.132718</td>\n      <td>0.0</td>\n      <td>14.72</td>\n      <td>1590105780000</td>\n      <td>77.800003</td>\n      <td>0.974</td>\n    </tr>\n    <tr>\n      <th>3</th>\n      <td>15.83</td>\n      <td>-8.383927</td>\n      <td>-0.115389</td>\n      <td>-6.127636</td>\n      <td>0.0</td>\n      <td>14.66</td>\n      <td>1590105840000</td>\n      <td>79.480003</td>\n      <td>1.576</td>\n    </tr>\n    <tr>\n      <th>4</th>\n      <td>15.68</td>\n      <td>-7.337333</td>\n      <td>0.184077</td>\n      <td>-6.158141</td>\n      <td>0.0</td>\n      <td>14.72</td>\n      <td>1590105900000</td>\n      <td>73.309998</td>\n      <td>1.641</td>\n    </tr>\n  </tbody>\n</table>\n</div>",
            "text/plain": "   AmbientTemp  DiffuseIrrad  DirectIrrad  GlobalIrrad  RainDailyAccumilation  \\\n0        15.92     -8.070624    -0.021616    -6.104020                    0.0   \n1        15.83     -7.960976     0.102011    -6.144083                    0.0   \n2        15.83     -8.346499    -0.032980    -6.132718                    0.0   \n3        15.83     -8.383927    -0.115389    -6.127636                    0.0   \n4        15.68     -7.337333     0.184077    -6.158141                    0.0   \n\n   RelativeHumidity        TmStamp  WindDirection  WindSpeed  \n0             15.14  1590105660000      91.099998      1.373  \n1             15.01  1590105720000      72.820000      1.325  \n2             14.72  1590105780000      77.800003      0.974  \n3             14.66  1590105840000      79.480003      1.576  \n4             14.72  1590105900000      73.309998      1.641  "
          },
          "metadata": {}
        }
      ]
    },
    {
      "metadata": {
        "trusted": true
      },
      "cell_type": "code",
      "source": "# Get data from URL\nURL = \"https://pv-dashboard.sandia.gov/api/v1.0/location/Albuquerque/data/system/start/2020-05-18/end/2020-05-25/key/ZhWJxS48oMpRm1\"\n\nresponse = requests.get(url=URL)\ndf = pd.DataFrame(response.json())\ndf.head()",
      "execution_count": 6,
      "outputs": [
        {
          "output_type": "execute_result",
          "execution_count": 6,
          "data": {
            "text/html": "<div>\n<style scoped>\n    .dataframe tbody tr th:only-of-type {\n        vertical-align: middle;\n    }\n\n    .dataframe tbody tr th {\n        vertical-align: top;\n    }\n\n    .dataframe thead th {\n        text-align: right;\n    }\n</style>\n<table border=\"1\" class=\"dataframe\">\n  <thead>\n    <tr style=\"text-align: right;\">\n      <th></th>\n      <th>AmbientTemp</th>\n      <th>PyranometerIrrad</th>\n      <th>RefCell1Irrad</th>\n      <th>RefCell2Irrad</th>\n      <th>Sys1Idc</th>\n      <th>Sys1Vdc</th>\n      <th>Sys1Wac</th>\n      <th>Sys2Idc</th>\n      <th>Sys2Vdc</th>\n      <th>Sys2Wac</th>\n      <th>TmStamp</th>\n    </tr>\n  </thead>\n  <tbody>\n    <tr>\n      <th>0</th>\n      <td>24.683332</td>\n      <td>-3.476246</td>\n      <td>0.0</td>\n      <td>0.0</td>\n      <td>-0.04200</td>\n      <td>2.4</td>\n      <td>-2.569879</td>\n      <td>0.006</td>\n      <td>1.600000</td>\n      <td>0.0</td>\n      <td>1589760060000</td>\n    </tr>\n    <tr>\n      <th>1</th>\n      <td>24.750000</td>\n      <td>-3.476246</td>\n      <td>0.0</td>\n      <td>0.0</td>\n      <td>-0.04200</td>\n      <td>2.4</td>\n      <td>-2.643215</td>\n      <td>0.006</td>\n      <td>1.600000</td>\n      <td>0.0</td>\n      <td>1589760120000</td>\n    </tr>\n    <tr>\n      <th>2</th>\n      <td>24.650000</td>\n      <td>-3.476246</td>\n      <td>0.0</td>\n      <td>0.0</td>\n      <td>-0.04325</td>\n      <td>2.4</td>\n      <td>-2.422854</td>\n      <td>0.006</td>\n      <td>1.600000</td>\n      <td>0.0</td>\n      <td>1589760180000</td>\n    </tr>\n    <tr>\n      <th>3</th>\n      <td>24.500000</td>\n      <td>-3.476246</td>\n      <td>0.0</td>\n      <td>0.0</td>\n      <td>-0.04275</td>\n      <td>2.4</td>\n      <td>-2.569688</td>\n      <td>0.006</td>\n      <td>1.616667</td>\n      <td>0.0</td>\n      <td>1589760240000</td>\n    </tr>\n    <tr>\n      <th>4</th>\n      <td>24.416664</td>\n      <td>-3.476246</td>\n      <td>0.0</td>\n      <td>0.0</td>\n      <td>-0.04250</td>\n      <td>2.4</td>\n      <td>-2.642898</td>\n      <td>0.006</td>\n      <td>1.600000</td>\n      <td>0.0</td>\n      <td>1589760300000</td>\n    </tr>\n  </tbody>\n</table>\n</div>",
            "text/plain": "   AmbientTemp  PyranometerIrrad  RefCell1Irrad  RefCell2Irrad  Sys1Idc  \\\n0    24.683332         -3.476246            0.0            0.0 -0.04200   \n1    24.750000         -3.476246            0.0            0.0 -0.04200   \n2    24.650000         -3.476246            0.0            0.0 -0.04325   \n3    24.500000         -3.476246            0.0            0.0 -0.04275   \n4    24.416664         -3.476246            0.0            0.0 -0.04250   \n\n   Sys1Vdc   Sys1Wac  Sys2Idc   Sys2Vdc  Sys2Wac        TmStamp  \n0      2.4 -2.569879    0.006  1.600000      0.0  1589760060000  \n1      2.4 -2.643215    0.006  1.600000      0.0  1589760120000  \n2      2.4 -2.422854    0.006  1.600000      0.0  1589760180000  \n3      2.4 -2.569688    0.006  1.616667      0.0  1589760240000  \n4      2.4 -2.642898    0.006  1.600000      0.0  1589760300000  "
          },
          "metadata": {}
        }
      ]
    },
    {
      "metadata": {
        "trusted": true
      },
      "cell_type": "code",
      "source": "# Get data from URL\nURL = \"https://pv-dashboard.sandia.gov/api/v1.0/location/Albuquerque/data/weather/start/2020-05-18/end/2020-05-25/key/ZhWJxS48oMpRm1\"\n\nresponse = requests.get(url=URL)\ndata = response.json()\nx = []\ny = []\ny2 = []\n\n# print(data)\nfor record in data:\n    x.append(datetime.fromtimestamp(record['TmStamp']/1000))\n    y.append(record['GlobalIrrad'])\n    y2.append(record['DirectIrrad'])\n\nplt.figure(figsize=(30,15))\nplt.plot(x,y, label = \"GHI\")\nplt.plot(x,y2, label = \"DHI\")\nplt.ylabel('Irradiance (W/m2)',size=20);\nplt.xlabel('RTCST ({})'.format(tz),size=20);\nplt.title('RTCST Data lat={}, lon={}'.format(latitude, longitude),size=20);\nplt.legend(prop={'size': 20});\nplt.show()",
      "execution_count": null,
      "outputs": []
    },
    {
      "metadata": {
        "trusted": true
      },
      "cell_type": "code",
      "source": "\n# print(data)\nfor record in data:\n    x.append(datetime.fromtimestamp(record['TmStamp']/1000))\n    y.append(record['GlobalIrrad'])\n    y2.append(record['DirectIrrad'])\n\nplt.figure(figsize=(30,15))\nplt.plot(x,y, label=\"GHI\")\nplt.plot(x,y2, label='DHI')\nplt.ylabel('Irradiance (W/m2)',size=20);\nplt.xlabel('RTCST ({})'.format(tz),size=20);\nplt.title('RTCST Data lat={}, lon={}'.format(latitude, longitude),size=20);\nplt.legend(prop={'size': 20});\nplt.show()",
      "execution_count": null,
      "outputs": []
    },
    {
      "metadata": {
        "trusted": true
      },
      "cell_type": "code",
      "source": "# Get data from URL\nURL = \"https://pv-dashboard.sandia.gov/api/v1.0/location/Albuquerque/data/system/start/2020-05-18/end/2020-05-25/key/ZhWJxS48oMpRm1\"\n\nresponse = requests.get(url=URL)\ndata = response.json()\nx = []\ny = []\ny2 = []\n\n# print(data)\nfor record in data:\n    x.append(datetime.fromtimestamp(record['TmStamp']/1000))\n    y.append(record['Sys1Wac'])\n    y2.append(record['Sys2Wac'])\n\nplt.figure(figsize=(30,15))\nplt.plot(x,y, label=\"Sys1 AC\")\nplt.plot(x,y2, label='Sys2 AC')\nplt.ylabel('AC Power (W)',size=20);\nplt.xlabel('RTCST ({})'.format(tz),size=20);\nplt.title('RTCST Data lat={}, lon={}'.format(latitude, longitude),size=20);\nplt.legend(prop={'size': 20});\nplt.show()",
      "execution_count": null,
      "outputs": []
    },
    {
      "metadata": {
        "trusted": true
      },
      "cell_type": "code",
      "source": "# Get data from URL\nURL = \"https://pv-dashboard.sandia.gov/api/v1.0/location/Albuquerque/data/system/start/2020-05-18/end/2020-05-25/key/ZhWJxS48oMpRm1\"\n\nresponse = requests.get(url=URL)\ndata = response.json()\nx = []\ny = []\ny2 = []\n\n# print(data)\nfor record in data:\n    x.append(datetime.fromtimestamp(record['TmStamp']/1000))\n    y.append(record['Sys1Vdc'])\n    y2.append(record['Sys2Vdc'])\n\nplt.figure(figsize=(30,15))\nplt.plot(x,y, label=\"Sys1 DC\")\nplt.plot(x,y2, label='Sys2 DC')\nplt.ylabel('DC Voltaje (V)',size=20);\nplt.xlabel('RTCST ({})'.format(tz),size=20);\nplt.title('RTCST Data lat={}, lon={}'.format(latitude, longitude),size=20);\nplt.legend(prop={'size': 20});\nplt.show()",
      "execution_count": null,
      "outputs": []
    },
    {
      "metadata": {
        "trusted": true
      },
      "cell_type": "code",
      "source": "",
      "execution_count": null,
      "outputs": []
    }
  ],
  "metadata": {
    "kernelspec": {
      "name": "python36",
      "display_name": "Python 3.6",
      "language": "python"
    },
    "language_info": {
      "mimetype": "text/x-python",
      "nbconvert_exporter": "python",
      "name": "python",
      "pygments_lexer": "ipython3",
      "version": "3.6.6",
      "file_extension": ".py",
      "codemirror_mode": {
        "version": 3,
        "name": "ipython"
      }
    }
  },
  "nbformat": 4,
  "nbformat_minor": 2
}